{
 "cells": [
  {
   "cell_type": "markdown",
   "metadata": {},
   "source": [
    "# Test One"
   ]
  },
  {
   "cell_type": "code",
   "execution_count": 407,
   "metadata": {},
   "outputs": [],
   "source": [
    "import pymongo\n",
    "from pymongo import MongoClient\n",
    "import json"
   ]
  },
  {
   "cell_type": "markdown",
   "metadata": {},
   "source": [
    "The PyMongo module was used to connect to the database created in MongoDB. The database name is **Projects** and the collection name is **AllProjects**. To create the database, use the command **use Projects**. The data was imported using the following command: **mongoimport --jsonArray --db Projects --collection AllProjects --file C:\\Users\\SND13188\\Downloads\\source.json.**"
   ]
  },
  {
   "cell_type": "code",
   "execution_count": 415,
   "metadata": {},
   "outputs": [],
   "source": [
    "client = MongoClient()"
   ]
  },
  {
   "cell_type": "code",
   "execution_count": 409,
   "metadata": {},
   "outputs": [],
   "source": [
    "db = client.Projects"
   ]
  },
  {
   "cell_type": "code",
   "execution_count": 410,
   "metadata": {},
   "outputs": [],
   "source": [
    "collection = db.AllProjects"
   ]
  },
  {
   "cell_type": "code",
   "execution_count": 411,
   "metadata": {},
   "outputs": [],
   "source": [
    "list_key_name = []\n",
    "list_key_manager = []\n",
    "list_key_watchers = []\n",
    "list_key_priority = []\n",
    "dict_managers = {}\n",
    "dict_watchers = {}"
   ]
  },
  {
   "cell_type": "code",
   "execution_count": 412,
   "metadata": {},
   "outputs": [],
   "source": [
    "list_key_manager = collection.find().distinct(\"managers\")"
   ]
  },
  {
   "cell_type": "code",
   "execution_count": 413,
   "metadata": {},
   "outputs": [],
   "source": [
    "list_key_watchers = collection.find().distinct(\"watchers\")"
   ]
  },
  {
   "cell_type": "code",
   "execution_count": 362,
   "metadata": {},
   "outputs": [],
   "source": [
    "list_key_name = collection.find().distinct(\"name\")"
   ]
  },
  {
   "cell_type": "code",
   "execution_count": 414,
   "metadata": {},
   "outputs": [],
   "source": [
    "for manager in list_key_manager:\n",
    "    cursor = collection.find({\"managers\":manager})\n",
    "    projects = []\n",
    "    for doc in cursor:\n",
    "        projects.append(doc[\"name\"])\n",
    "    dict_managers.update({manager:projects})\n",
    "    json_managers = json.dumps(dict_managers, sort_keys = True)\n",
    "    \n",
    "#print(json_managers) dump to file\n",
    "\n",
    "\n",
    "for watcher in list_key_watchers:\n",
    "    cursor = collection.find({\"watchers\":watcher})\n",
    "    projects = []\n",
    "    for doc in cursor:\n",
    "        projects.append(doc[\"name\"])\n",
    "    dict_managers.update({watcher:projects})\n",
    "    json_watchers = json.dumps(dict_managers, sort_keys = True)\n",
    "    \n",
    "#print(json_watchers)\n",
    "\n",
    "\n",
    "with open(\"./managers.json\", \"w\") as write_file_managers:\n",
    "    json.dump(json_managers, write_file_managers)\n",
    "    \n",
    "with open(\"./watchers.json\", \"w\") as write_file_watchers:\n",
    "    json.dump(json_watchers, write_file_watchers)\n",
    "        "
   ]
  }
 ],
 "metadata": {
  "kernelspec": {
   "display_name": "Python 3",
   "language": "python",
   "name": "python3"
  },
  "language_info": {
   "codemirror_mode": {
    "name": "ipython",
    "version": 3
   },
   "file_extension": ".py",
   "mimetype": "text/x-python",
   "name": "python",
   "nbconvert_exporter": "python",
   "pygments_lexer": "ipython3",
   "version": "3.7.4"
  }
 },
 "nbformat": 4,
 "nbformat_minor": 2
}
